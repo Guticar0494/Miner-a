{
 "cells": [
  {
   "cell_type": "markdown",
   "metadata": {},
   "source": [
    "# Proyecto 1 Minería de datos\n",
    "\n",
    "\n",
    "### Integrantes  \n",
    " Andrés Felipe Gutiérrez  \n",
    " Andrés Otriz  \n",
    " Juan David Cortes  \n",
    " Freddy Correa  "
   ]
  },
  {
   "cell_type": "markdown",
   "metadata": {},
   "source": [
    "## Lectura de librerías y bases de datos"
   ]
  },
  {
   "cell_type": "code",
   "execution_count": 40,
   "metadata": {},
   "outputs": [],
   "source": [
    "import pandas as pd\n",
    "import category_encoders as ce\n",
    "from sklearn.preprocessing import StandardScaler,scale,robust_scale\n",
    "\n",
    "import matplotlib.pyplot as plt\n",
    "import seaborn as sns\n",
    "from scipy.stats import norm, skew\n",
    "import numpy as np\n",
    "from numpy import sqrt\n",
    "\n",
    "# Librerías de Regresión\n",
    "from sklearn.ensemble import RandomForestRegressor\n",
    "from sklearn.model_selection import train_test_split\n",
    "from sklearn.metrics import mean_squared_error\n",
    "from sklearn.model_selection import cross_val_score\n"
   ]
  },
  {
   "cell_type": "code",
   "execution_count": 79,
   "metadata": {},
   "outputs": [],
   "source": [
    "#Lectura del data set\n",
    "df_train= pd.read_csv('https://github.com/albahnsen/PracticalMachineLearningClass/raw/master/datasets/dataTrain_carListings.zip')\n",
    "df_train['label']='Train'\n",
    "df_test= pd.read_csv('https://github.com/albahnsen/PracticalMachineLearningClass/raw/master/datasets/dataTest_carListings.zip', index_col=0)\n",
    "df_test['label']='Test'"
   ]
  },
  {
   "cell_type": "markdown",
   "metadata": {},
   "source": [
    "## Estandarización de datasets"
   ]
  },
  {
   "cell_type": "code",
   "execution_count": 80,
   "metadata": {},
   "outputs": [],
   "source": [
    "#Unir bases de datos\n",
    "concat_df=pd.concat([df_train,df_test],axis=0,sort=False)"
   ]
  },
  {
   "cell_type": "code",
   "execution_count": 81,
   "metadata": {},
   "outputs": [
    {
     "name": "stderr",
     "output_type": "stream",
     "text": [
      "/anaconda3/lib/python3.7/site-packages/ipykernel_launcher.py:3: DataConversionWarning: Data with input dtype int64 were all converted to float64 by the scale function.\n",
      "  This is separate from the ipykernel package so we can avoid doing imports until\n"
     ]
    }
   ],
   "source": [
    "#Tratamiento de variables continuas ESTANDARIZACIÓN\n",
    "x_array=concat_df.drop(['Price','State','Make','Model','label'],axis=1)\n",
    "norm_X = pd.DataFrame(scale(x_array), columns=x_array.columns, index=x_array.index)\n",
    "norm_X['Price']=concat_df['Price']"
   ]
  },
  {
   "cell_type": "markdown",
   "metadata": {},
   "source": [
    "## Tratamiento de variables categóricas"
   ]
  },
  {
   "cell_type": "code",
   "execution_count": 82,
   "metadata": {},
   "outputs": [],
   "source": [
    "#Aplicar tratamiento categorico BINARY\n",
    "X_ = ce.BinaryEncoder().fit_transform(concat_df.drop(['Price','Year','Mileage'], axis=1))\n",
    "\n",
    "#Agregar variables contiuas\n",
    "X_[['Year','Mileage','Price']]=norm_X[['Year','Mileage','Price']]"
   ]
  },
  {
   "cell_type": "markdown",
   "metadata": {},
   "source": [
    "## Separar datasets y enviar a csv"
   ]
  },
  {
   "cell_type": "code",
   "execution_count": 83,
   "metadata": {},
   "outputs": [],
   "source": [
    "#Separar data sets\n",
    "train_df=X_[X_['label_1']==1]\n",
    "train_df=train_df.drop(['label_1','label_0'],axis=1)\n",
    "test_df=X_[X_['label_0']==1]\n",
    "test_df=test_df.drop('Price',axis=1)\n",
    "test_df=test_df.drop(['label_1','label_0'],axis=1)"
   ]
  },
  {
   "cell_type": "code",
   "execution_count": 84,
   "metadata": {},
   "outputs": [],
   "source": [
    "train_df.to_csv('train_df.csv', index=False)\n",
    "test_df.to_csv('test_df.csv')"
   ]
  },
  {
   "cell_type": "markdown",
   "metadata": {},
   "source": [
    "## Creación del modelo"
   ]
  },
  {
   "cell_type": "code",
   "execution_count": null,
   "metadata": {},
   "outputs": [],
   "source": [
    "#Leer tablas tratadas\n",
    "df_train= pd.read_csv('train_df.csv')\n",
    "df_test= pd.read_csv('test_df.csv', index_col=0)"
   ]
  },
  {
   "cell_type": "code",
   "execution_count": null,
   "metadata": {},
   "outputs": [],
   "source": [
    "X=df_train.drop('Price',axis=1)\n",
    "y=df_train['Price']\n",
    "\n",
    "X_train, X_test, y_train, y_test = train_test_split(X, y, random_state=18)\n",
    "\n",
    "reg=RandomForestRegressor(n_estimators=1500, max_depth=16, max_features=16, random_state=81).fit(X_train,y_train)\n",
    "\n",
    "y_pred=reg.predict(X_test)\n",
    "rmse=sqrt(mean_squared_error(y_test,y_pred))\n",
    "\n",
    "print('RMSE:',rmse)"
   ]
  },
  {
   "cell_type": "markdown",
   "metadata": {},
   "source": [
    "## Ajuste de parámetros"
   ]
  },
  {
   "cell_type": "code",
   "execution_count": null,
   "metadata": {},
   "outputs": [],
   "source": [
    "# Cross Validation para los parámetros del modelo (max_depth,max_features,random_state)\n",
    "range_ = range(1, 70, 10)\n",
    "\n",
    "# Guardar los valores de RMSE del parámetro que se está estimando\n",
    "rmse = []\n",
    "\n",
    "for paramter in range_:\n",
    "    reg = xgb.RandomForestRegressor(max_depth=paramter, random_state=81)\n",
    "    rmse.append(cross_val_score(reg, X, y, cv=5, scoring='neg_mean_squared_error').mean())\n",
    "    print(depth)\n",
    "    \n",
    "# Graficar el parámetro en el ejex y el RMSE en el eje y\n",
    "plt.plot(range_, rmse)\n",
    "plt.xlabel('Parametro')\n",
    "plt.ylabel('rmse')\n",
    "\n",
    "\n",
    "# Mostrar el valor del parámetro con el menor RMSE\n",
    "sorted(zip(rmse, range_))[::-1][0]"
   ]
  },
  {
   "cell_type": "markdown",
   "metadata": {},
   "source": [
    "## Hacer predicciones y enviar el modelo a CSV"
   ]
  },
  {
   "cell_type": "code",
   "execution_count": null,
   "metadata": {},
   "outputs": [],
   "source": [
    "y_pred=pd.DataFrame(reg.predict(df_test), columns=['Price'])\n",
    "y_pred.to_csv('test_submission.csv', index_label='ID')"
   ]
  },
  {
   "cell_type": "markdown",
   "metadata": {},
   "source": [
    "## API con el modelo en línea "
   ]
  },
  {
   "cell_type": "code",
   "execution_count": 1,
   "metadata": {},
   "outputs": [
    {
     "ename": "SyntaxError",
     "evalue": "invalid syntax (<ipython-input-1-de0b015a16fd>, line 1)",
     "output_type": "error",
     "traceback": [
      "\u001b[0;36m  File \u001b[0;32m\"<ipython-input-1-de0b015a16fd>\"\u001b[0;36m, line \u001b[0;32m1\u001b[0m\n\u001b[0;31m    <img src=\"files/image.png\">\u001b[0m\n\u001b[0m    ^\u001b[0m\n\u001b[0;31mSyntaxError\u001b[0m\u001b[0;31m:\u001b[0m invalid syntax\n"
     ]
    }
   ],
   "source": [
    "<img src=\"files/image.png\">"
   ]
  }
 ],
 "metadata": {
  "kernelspec": {
   "display_name": "Python 3",
   "language": "python",
   "name": "python3"
  },
  "language_info": {
   "codemirror_mode": {
    "name": "ipython",
    "version": 3
   },
   "file_extension": ".py",
   "mimetype": "text/x-python",
   "name": "python",
   "nbconvert_exporter": "python",
   "pygments_lexer": "ipython3",
   "version": "3.7.1"
  }
 },
 "nbformat": 4,
 "nbformat_minor": 2
}
