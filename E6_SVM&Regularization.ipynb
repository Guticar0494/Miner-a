{
 "cells": [
  {
   "cell_type": "markdown",
   "metadata": {
    "colab_type": "text",
    "id": "3Lb3kuIkdi83"
   },
   "source": [
    "# Exercise 6\n",
    "\n",
    "## SVM & Regularization\n",
    "\n",
    "\n",
    "For this homework we consider a set of observations on a number of red and white wine varieties involving their chemical properties and ranking by tasters. Wine industry shows a recent growth spurt as social drinking is on the rise. The price of wine depends on a rather abstract concept of wine appreciation by wine tasters, opinion among whom may have a high degree of variability. Pricing of wine depends on such a volatile factor to some extent. Another key factor in wine certification and quality assessment is physicochemical tests which are laboratory-based and takes into account factors like acidity, pH level, presence of sugar and other chemical properties. For the wine market, it would be of interest if human quality of tasting can be related to the chemical properties of wine so that certification and quality assessment and assurance process is more controlled.\n",
    "\n",
    "Two datasets are available of which one dataset is on red wine and have 1599 different varieties and the other is on white wine and have 4898 varieties. All wines are produced in a particular area of Portugal. Data are collected on 12 different properties of the wines one of which is Quality, based on sensory data, and the rest are on chemical properties of the wines including density, acidity, alcohol content etc. All chemical properties of wines are continuous variables. Quality is an ordinal variable with possible ranking from 1 (worst) to 10 (best). Each variety of wine is tasted by three independent tasters and the final rank assigned is the median rank given by the tasters.\n",
    "\n",
    "A predictive model developed on this data is expected to provide guidance to vineyards regarding quality and price expected on their produce without heavy reliance on volatility of wine tasters."
   ]
  },
  {
   "cell_type": "code",
   "execution_count": 175,
   "metadata": {
    "colab": {},
    "colab_type": "code",
    "id": "eEBfuHkNdi86"
   },
   "outputs": [],
   "source": [
    "%matplotlib inline\n",
    "import pandas as pd\n",
    "import numpy as np\n",
    "import matplotlib.pyplot as plt\n",
    "from sklearn.model_selection import train_test_split"
   ]
  },
  {
   "cell_type": "code",
   "execution_count": 176,
   "metadata": {
    "colab": {},
    "colab_type": "code",
    "id": "g3ANq6r7di89"
   },
   "outputs": [],
   "source": [
    "data_r = pd.read_csv('https://github.com/albahnsen/PracticalMachineLearningClass/raw/master/datasets/Wine_data_red.csv')\n",
    "data_w = pd.read_csv('https://github.com/albahnsen/PracticalMachineLearningClass/raw/master/datasets/Wine_data_white.csv')"
   ]
  },
  {
   "cell_type": "code",
   "execution_count": 177,
   "metadata": {
    "colab": {},
    "colab_type": "code",
    "id": "iXP62Kkpdi8_",
    "outputId": "2eb52f25-4b69-46f2-de00-0bb87fa28f75"
   },
   "outputs": [
    {
     "data": {
      "text/html": [
       "<div>\n",
       "<style scoped>\n",
       "    .dataframe tbody tr th:only-of-type {\n",
       "        vertical-align: middle;\n",
       "    }\n",
       "\n",
       "    .dataframe tbody tr th {\n",
       "        vertical-align: top;\n",
       "    }\n",
       "\n",
       "    .dataframe thead th {\n",
       "        text-align: right;\n",
       "    }\n",
       "</style>\n",
       "<table border=\"1\" class=\"dataframe\">\n",
       "  <thead>\n",
       "    <tr style=\"text-align: right;\">\n",
       "      <th></th>\n",
       "      <th>fixed acidity</th>\n",
       "      <th>volatile acidity</th>\n",
       "      <th>citric acid</th>\n",
       "      <th>residual sugar</th>\n",
       "      <th>chlorides</th>\n",
       "      <th>free sulfur dioxide</th>\n",
       "      <th>total sulfur dioxide</th>\n",
       "      <th>density</th>\n",
       "      <th>pH</th>\n",
       "      <th>sulphates</th>\n",
       "      <th>alcohol</th>\n",
       "      <th>quality</th>\n",
       "      <th>type</th>\n",
       "    </tr>\n",
       "  </thead>\n",
       "  <tbody>\n",
       "    <tr>\n",
       "      <th>480</th>\n",
       "      <td>6.7</td>\n",
       "      <td>0.47</td>\n",
       "      <td>0.34</td>\n",
       "      <td>8.9</td>\n",
       "      <td>0.043</td>\n",
       "      <td>31.0</td>\n",
       "      <td>172.0</td>\n",
       "      <td>0.99640</td>\n",
       "      <td>3.22</td>\n",
       "      <td>0.60</td>\n",
       "      <td>9.2</td>\n",
       "      <td>5</td>\n",
       "      <td>white</td>\n",
       "    </tr>\n",
       "    <tr>\n",
       "      <th>567</th>\n",
       "      <td>6.0</td>\n",
       "      <td>0.26</td>\n",
       "      <td>0.50</td>\n",
       "      <td>2.2</td>\n",
       "      <td>0.048</td>\n",
       "      <td>59.0</td>\n",
       "      <td>153.0</td>\n",
       "      <td>0.99280</td>\n",
       "      <td>3.08</td>\n",
       "      <td>0.61</td>\n",
       "      <td>9.8</td>\n",
       "      <td>5</td>\n",
       "      <td>white</td>\n",
       "    </tr>\n",
       "    <tr>\n",
       "      <th>1634</th>\n",
       "      <td>8.3</td>\n",
       "      <td>0.25</td>\n",
       "      <td>0.49</td>\n",
       "      <td>16.8</td>\n",
       "      <td>0.048</td>\n",
       "      <td>50.0</td>\n",
       "      <td>228.0</td>\n",
       "      <td>1.00010</td>\n",
       "      <td>3.03</td>\n",
       "      <td>0.52</td>\n",
       "      <td>9.2</td>\n",
       "      <td>6</td>\n",
       "      <td>white</td>\n",
       "    </tr>\n",
       "    <tr>\n",
       "      <th>5749</th>\n",
       "      <td>9.3</td>\n",
       "      <td>0.43</td>\n",
       "      <td>0.44</td>\n",
       "      <td>1.9</td>\n",
       "      <td>0.085</td>\n",
       "      <td>9.0</td>\n",
       "      <td>22.0</td>\n",
       "      <td>0.99708</td>\n",
       "      <td>3.28</td>\n",
       "      <td>0.55</td>\n",
       "      <td>9.5</td>\n",
       "      <td>5</td>\n",
       "      <td>red</td>\n",
       "    </tr>\n",
       "    <tr>\n",
       "      <th>4675</th>\n",
       "      <td>5.7</td>\n",
       "      <td>0.21</td>\n",
       "      <td>0.37</td>\n",
       "      <td>4.5</td>\n",
       "      <td>0.040</td>\n",
       "      <td>58.0</td>\n",
       "      <td>140.0</td>\n",
       "      <td>0.99332</td>\n",
       "      <td>3.29</td>\n",
       "      <td>0.62</td>\n",
       "      <td>10.6</td>\n",
       "      <td>6</td>\n",
       "      <td>white</td>\n",
       "    </tr>\n",
       "  </tbody>\n",
       "</table>\n",
       "</div>"
      ],
      "text/plain": [
       "      fixed acidity  volatile acidity  citric acid  residual sugar  chlorides  \\\n",
       "480             6.7              0.47         0.34             8.9      0.043   \n",
       "567             6.0              0.26         0.50             2.2      0.048   \n",
       "1634            8.3              0.25         0.49            16.8      0.048   \n",
       "5749            9.3              0.43         0.44             1.9      0.085   \n",
       "4675            5.7              0.21         0.37             4.5      0.040   \n",
       "\n",
       "      free sulfur dioxide  total sulfur dioxide  density    pH  sulphates  \\\n",
       "480                  31.0                 172.0  0.99640  3.22       0.60   \n",
       "567                  59.0                 153.0  0.99280  3.08       0.61   \n",
       "1634                 50.0                 228.0  1.00010  3.03       0.52   \n",
       "5749                  9.0                  22.0  0.99708  3.28       0.55   \n",
       "4675                 58.0                 140.0  0.99332  3.29       0.62   \n",
       "\n",
       "      alcohol  quality   type  \n",
       "480       9.2        5  white  \n",
       "567       9.8        5  white  \n",
       "1634      9.2        6  white  \n",
       "5749      9.5        5    red  \n",
       "4675     10.6        6  white  "
      ]
     },
     "execution_count": 177,
     "metadata": {},
     "output_type": "execute_result"
    }
   ],
   "source": [
    "data = data_w.assign(type = 'white')\n",
    "\n",
    "data = data.append(data_r.assign(type = 'red'), ignore_index=True)\n",
    "data.sample(5)"
   ]
  },
  {
   "cell_type": "markdown",
   "metadata": {
    "colab_type": "text",
    "id": "0gcoDcSZdi9F"
   },
   "source": [
    "# Exercise 6.1\n",
    "\n",
    "Show the frecuency table of the quality by type of wine"
   ]
  },
  {
   "cell_type": "code",
   "execution_count": 178,
   "metadata": {
    "colab": {},
    "colab_type": "code",
    "id": "5hY7RtSCdi9G"
   },
   "outputs": [
    {
     "data": {
      "text/html": [
       "<div>\n",
       "<style scoped>\n",
       "    .dataframe tbody tr th:only-of-type {\n",
       "        vertical-align: middle;\n",
       "    }\n",
       "\n",
       "    .dataframe tbody tr th {\n",
       "        vertical-align: top;\n",
       "    }\n",
       "\n",
       "    .dataframe thead th {\n",
       "        text-align: right;\n",
       "    }\n",
       "</style>\n",
       "<table border=\"1\" class=\"dataframe\">\n",
       "  <thead>\n",
       "    <tr style=\"text-align: right;\">\n",
       "      <th>quality</th>\n",
       "      <th>3</th>\n",
       "      <th>4</th>\n",
       "      <th>5</th>\n",
       "      <th>6</th>\n",
       "      <th>7</th>\n",
       "      <th>8</th>\n",
       "      <th>9</th>\n",
       "    </tr>\n",
       "    <tr>\n",
       "      <th>type</th>\n",
       "      <th></th>\n",
       "      <th></th>\n",
       "      <th></th>\n",
       "      <th></th>\n",
       "      <th></th>\n",
       "      <th></th>\n",
       "      <th></th>\n",
       "    </tr>\n",
       "  </thead>\n",
       "  <tbody>\n",
       "    <tr>\n",
       "      <th>red</th>\n",
       "      <td>10.0</td>\n",
       "      <td>53.0</td>\n",
       "      <td>681.0</td>\n",
       "      <td>638.0</td>\n",
       "      <td>199.0</td>\n",
       "      <td>18.0</td>\n",
       "      <td>NaN</td>\n",
       "    </tr>\n",
       "    <tr>\n",
       "      <th>white</th>\n",
       "      <td>20.0</td>\n",
       "      <td>163.0</td>\n",
       "      <td>1457.0</td>\n",
       "      <td>2198.0</td>\n",
       "      <td>880.0</td>\n",
       "      <td>175.0</td>\n",
       "      <td>5.0</td>\n",
       "    </tr>\n",
       "  </tbody>\n",
       "</table>\n",
       "</div>"
      ],
      "text/plain": [
       "quality     3      4       5       6      7      8    9\n",
       "type                                                   \n",
       "red      10.0   53.0   681.0   638.0  199.0   18.0  NaN\n",
       "white    20.0  163.0  1457.0  2198.0  880.0  175.0  5.0"
      ]
     },
     "execution_count": 178,
     "metadata": {},
     "output_type": "execute_result"
    }
   ],
   "source": [
    "data[['quality','type']].groupby(['type','quality'])['type'].count().unstack()"
   ]
  },
  {
   "cell_type": "markdown",
   "metadata": {
    "colab_type": "text",
    "id": "mVdSQ_Asdi9I"
   },
   "source": [
    "# SVM"
   ]
  },
  {
   "cell_type": "markdown",
   "metadata": {
    "colab_type": "text",
    "id": "vbApWXvkdi9J"
   },
   "source": [
    "# Exercise 6.2\n",
    "\n",
    "* Standarized the features (not the quality)\n",
    "* Create a binary target for each type of wine\n",
    "* Create two Linear SVM's for the white and red wines, repectively.\n"
   ]
  },
  {
   "cell_type": "code",
   "execution_count": 179,
   "metadata": {
    "colab": {},
    "colab_type": "code",
    "id": "4DByKZUmdi9K"
   },
   "outputs": [],
   "source": [
    "from sklearn.preprocessing import StandardScaler\n",
    "from sklearn.svm import SVC  # \"Support Vector Classifier\"\n",
    "import numpy as np\n",
    "\n",
    "#Estandarizar el DF\n",
    "scaler=StandardScaler()\n",
    "data_scaled=scaler.fit_transform(data.drop(columns=['quality','type']))\n",
    "data_scaled=pd.DataFrame(data_scaled, columns=data.drop(columns=['quality','type']).columns)\n",
    "data_scaled[['quality','type']]=data[['quality','type']]\n",
    "df=data_scaled\n",
    "\n",
    "#Crear variables binarias para cada tipo de vino\n",
    "data_scaled.loc[data_scaled.quality <= 5, 'quality'] = 0\n",
    "data_scaled.loc[data_scaled.quality > 5, 'quality'] = 1\n",
    "\n",
    "\n",
    "#Dividir en 2 DF\n",
    "wwine=data_scaled[data_scaled['type']=='white']\n",
    "\n",
    "rwine=data_scaled[data_scaled['type']!='white']"
   ]
  },
  {
   "cell_type": "code",
   "execution_count": 180,
   "metadata": {
    "colab": {},
    "colab_type": "code",
    "id": "4DByKZUmdi9K"
   },
   "outputs": [
    {
     "data": {
      "text/plain": [
       "0.754421768707483"
      ]
     },
     "execution_count": 180,
     "metadata": {},
     "output_type": "execute_result"
    }
   ],
   "source": [
    "#MODELO WHITE WINE\n",
    "#Train and test Data\n",
    "\n",
    "#Definir variables\n",
    "x=wwine.drop(columns=['quality','type'])\n",
    "y=wwine.quality\n",
    "\n",
    "#Partición de sets\n",
    "X1_train, X1_test, y1_train, y1_test = train_test_split(x, y, test_size=0.3)\n",
    "\n",
    "\n",
    "#Crear los SVM lineales, uno para cada tipo de vino\n",
    "clf1 = SVC(kernel='linear')\n",
    "clf1.fit(X1_train, y1_train)\n",
    "\n",
    "clf1.score(X1_test,y1_test)"
   ]
  },
  {
   "cell_type": "code",
   "execution_count": 181,
   "metadata": {},
   "outputs": [
    {
     "data": {
      "text/plain": [
       "0.74375"
      ]
     },
     "execution_count": 181,
     "metadata": {},
     "output_type": "execute_result"
    }
   ],
   "source": [
    "#MODELO RED WINE\n",
    "\n",
    "#Definir variables\n",
    "x=rwine.drop(columns=['quality','type'])\n",
    "y=rwine.quality\n",
    "\n",
    "#Partición de sets\n",
    "X2_train, X2_test, y2_train, y2_test = train_test_split(x, y, test_size=0.3)\n",
    "\n",
    "#Crear los SVM lineales, uno para cada tipo de vino\n",
    "clf = SVC(kernel='linear')\n",
    "clf.fit(X2_train, y2_train)\n",
    "\n",
    "clf.score(X2_test, y2_test)"
   ]
  },
  {
   "cell_type": "markdown",
   "metadata": {
    "colab_type": "text",
    "id": "Kmba3Adhdi9N"
   },
   "source": [
    "# Exercise 6.3\n",
    "\n",
    "Test the two SVM's using the different kernels (‘poly’, ‘rbf’, ‘sigmoid’)\n"
   ]
  },
  {
   "cell_type": "code",
   "execution_count": 182,
   "metadata": {
    "scrolled": true
   },
   "outputs": [
    {
     "name": "stdout",
     "output_type": "stream",
     "text": [
      "Kernel Poly score 0.74 \n",
      "Kernel rbf score 0.78 \n",
      "Kernel sigmoid score 0.67\n"
     ]
    }
   ],
   "source": [
    "#MODELO WHITE WINE\n",
    "\n",
    "#Crear los Kernels\n",
    "wclf_poly = SVC(kernel='poly')\n",
    "wclf_poly.fit(X1_train, y1_train)\n",
    "\n",
    "wclf_rbf = SVC(kernel='rbf')\n",
    "wclf_rbf.fit(X1_train, y1_train)\n",
    "\n",
    "wclf_sigmoid = SVC(kernel='sigmoid')\n",
    "wclf_sigmoid.fit(X1_train, y1_train)\n",
    "\n",
    "print('Kernel Poly score',str(round(wclf_poly.score(X1_test, y1_test),2)),'\\n'\n",
    "      'Kernel rbf score',str(round(wclf_rbf.score(X1_test, y1_test),2)),'\\n'\n",
    "      'Kernel sigmoid score',str(round(wclf_sigmoid.score(X1_test, y1_test),2)))"
   ]
  },
  {
   "cell_type": "code",
   "execution_count": 183,
   "metadata": {},
   "outputs": [
    {
     "name": "stdout",
     "output_type": "stream",
     "text": [
      "Kernel Poly score 0.74 \n",
      "Kernel rbf score 0.74 \n",
      "Kernel sigmoid score 0.64\n"
     ]
    }
   ],
   "source": [
    "#MODELO RED WINE\n",
    "\n",
    "#Crear los Kernels\n",
    "rclf_poly = SVC(kernel='poly')\n",
    "rclf_poly.fit(X2_train, y2_train)\n",
    "\n",
    "rclf_rbf = SVC(kernel='rbf')\n",
    "rclf_rbf.fit(X2_train, y2_train)\n",
    "\n",
    "rclf_sigmoid = SVC(kernel='sigmoid')\n",
    "rclf_sigmoid.fit(X2_train, y2_train)\n",
    "\n",
    "print('Kernel Poly score',str(round(rclf_poly.score(X2_test, y2_test),2)),'\\n'\n",
    "      'Kernel rbf score',str(round(rclf_rbf.score(X2_test, y2_test),3)),'\\n'\n",
    "      'Kernel sigmoid score',str(round(rclf_sigmoid.score(X2_test, y2_test),2)))"
   ]
  },
  {
   "cell_type": "markdown",
   "metadata": {
    "colab_type": "text",
    "id": "bP4Z-5pddi9Q"
   },
   "source": [
    "# Exercise 6.4\n",
    "Using the best SVM find the parameters that gives the best performance\n",
    "\n",
    "'C': [0.1, 1, 10, 100, 1000], 'gamma': [0.01, 0.001, 0.0001]"
   ]
  },
  {
   "cell_type": "code",
   "execution_count": 184,
   "metadata": {
    "colab": {},
    "colab_type": "code",
    "id": "mP3-ZnwFdi9R"
   },
   "outputs": [],
   "source": [
    "def bestsvc(tvino,x_train,y_train,x_test,y_test,c,g):\n",
    "    score=0\n",
    "    for i in c:\n",
    "        for j in g:\n",
    "            clf=SVC(kernel='rbf',C=i,gamma=j).fit(x_train,y_train)\n",
    "            if clf.score(x_test, y_test)>score:\n",
    "                score=clf.score(x_test, y_test)\n",
    "                C=i\n",
    "                gamma=j\n",
    "    print('Vino',tvino,'\\nScore:',round(score,2),'\\nC:',C,'\\ngamma:',gamma,'\\n')"
   ]
  },
  {
   "cell_type": "code",
   "execution_count": 185,
   "metadata": {},
   "outputs": [
    {
     "name": "stdout",
     "output_type": "stream",
     "text": [
      "Vino White \n",
      "Score: 0.77 \n",
      "C: 100 \n",
      "gamma: 0.01 \n",
      "\n",
      "Vino Red \n",
      "Score: 0.74 \n",
      "C: 1000 \n",
      "gamma: 0.01 \n",
      "\n"
     ]
    }
   ],
   "source": [
    "C=[0.1, 1, 10, 100, 1000]\n",
    "gamma=[0.01, 0.001, 0.0001]\n",
    "bestsvc('White',X1_train,y1_train,X1_test,y1_test,C,gamma)\n",
    "bestsvc('Red',X2_train,y2_train,X2_test,y2_test,C,gamma)"
   ]
  },
  {
   "cell_type": "markdown",
   "metadata": {
    "colab_type": "text",
    "id": "Ot_-0zyRdi9U"
   },
   "source": [
    "# Exercise 6.5\n",
    "\n",
    "Compare the results with other methods"
   ]
  },
  {
   "cell_type": "code",
   "execution_count": 186,
   "metadata": {
    "colab": {},
    "colab_type": "code",
    "id": "ddeEeSm5di9V"
   },
   "outputs": [],
   "source": [
    "from sklearn.linear_model import LogisticRegression\n",
    "def logit(tvino,x_train,y_train,x_test,y_test):\n",
    "    logreg = LogisticRegression(C=1e9,solver='liblinear')\n",
    "    logreg.fit(x_train,y_train)\n",
    "    score=logreg.score(x_test,y_test)\n",
    "    print('Vino',tvino,'\\nScore:',round(score,2),'\\n')"
   ]
  },
  {
   "cell_type": "code",
   "execution_count": 187,
   "metadata": {},
   "outputs": [
    {
     "name": "stdout",
     "output_type": "stream",
     "text": [
      "Vino White \n",
      "Score: 0.76 \n",
      "\n",
      "Vino Red \n",
      "Score: 0.74 \n",
      "\n"
     ]
    }
   ],
   "source": [
    "logit('White',X1_train,y1_train,X1_test,y1_test)\n",
    "logit('Red',X2_train,y2_train,X2_test,y2_test)"
   ]
  },
  {
   "cell_type": "markdown",
   "metadata": {
    "colab_type": "text",
    "id": "VaD4ho7Ldi9Y"
   },
   "source": [
    "# Regularization"
   ]
  },
  {
   "cell_type": "markdown",
   "metadata": {
    "colab_type": "text",
    "id": "8eTBfOL_di9Z"
   },
   "source": [
    "# Exercise 6.6\n",
    "\n",
    "\n",
    "* Train a linear regression to predict wine quality (Continous)\n",
    "\n",
    "* Analyze the coefficients\n",
    "\n",
    "* Evaluate the RMSE"
   ]
  },
  {
   "cell_type": "code",
   "execution_count": 188,
   "metadata": {
    "colab": {},
    "colab_type": "code",
    "id": "gaBYEDA0di9a"
   },
   "outputs": [],
   "source": [
    "from sklearn.linear_model import LinearRegression\n",
    "\n",
    "#Data frame estandarizado con variable dependiente continua\n",
    "df=data_scaled\n",
    "df['quality']=data['quality']\n",
    "\n",
    "#Tiwpo de vino a dummies\n",
    "df['type']=pd.get_dummies(df['type'], drop_first=True)\n",
    "\n",
    "#Definir Variables\n",
    "x=df.drop(columns=['quality'])\n",
    "y=df['quality']\n",
    "\n",
    "#Sets de entrenamiento y prueba\n",
    "X_train, X_test, y_train, y_test = train_test_split(x, y, test_size=0.3)\n",
    "\n",
    "#Modelo\n",
    "linearm=LinearRegression().fit(X_train,y_train)"
   ]
  },
  {
   "cell_type": "code",
   "execution_count": 189,
   "metadata": {},
   "outputs": [
    {
     "data": {
      "text/plain": [
       "0.2955125586191577"
      ]
     },
     "execution_count": 189,
     "metadata": {},
     "output_type": "execute_result"
    }
   ],
   "source": [
    "linearm.score(X_test,y_test)"
   ]
  },
  {
   "cell_type": "code",
   "execution_count": 190,
   "metadata": {},
   "outputs": [
    {
     "name": "stdout",
     "output_type": "stream",
     "text": [
      "B0(fixed acidity)= 0.11\n",
      "B1(volatile acidity)= -0.25\n",
      "B2(citric acid)= -0.01\n",
      "B3(residual sugar)= 0.32\n",
      "B4(chlorides)= -0.02\n",
      "B5(free sulfur dioxide)= 0.08\n",
      "B6(total sulfur dioxide)= -0.08\n",
      "B7(density)= -0.34\n",
      "B8(pH)= 0.08\n",
      "B9(sulphates)= 0.09\n",
      "B10(alcohol)= 0.26\n",
      "B11(type)= -0.42\n"
     ]
    }
   ],
   "source": [
    "#Obtener los coeficientes\n",
    "for i in range(0,len(linearm.coef_)):\n",
    "    print('B'+str(i)+'('+str(df.drop(columns=['quality']).columns[i])+')=',round(linearm.coef_[i],2))"
   ]
  },
  {
   "cell_type": "code",
   "execution_count": 191,
   "metadata": {},
   "outputs": [
    {
     "name": "stdout",
     "output_type": "stream",
     "text": [
      "RMSE: 0.53\n"
     ]
    }
   ],
   "source": [
    "from sklearn.metrics import mean_squared_error\n",
    "#Raiz del error cuadratico medio\n",
    "print('RMSE:',round(mean_squared_error(y_test,linearm.predict(X_test)),2))"
   ]
  },
  {
   "cell_type": "markdown",
   "metadata": {
    "colab_type": "text",
    "id": "II5u4Iiddi9d"
   },
   "source": [
    "# Exercise 6.7\n",
    "\n",
    "* Estimate a ridge regression with alpha equals 0.1 and 1.\n",
    "* Compare the coefficients with the linear regression\n",
    "* Evaluate the RMSE"
   ]
  },
  {
   "cell_type": "code",
   "execution_count": 192,
   "metadata": {
    "colab": {},
    "colab_type": "code",
    "id": "rdEKWXcAdi9e"
   },
   "outputs": [],
   "source": [
    "from sklearn.linear_model import Ridge\n",
    "from sklearn import metrics\n",
    "#Ridge con alfa=1\n",
    "ridgereg1 = Ridge(alpha=1, normalize=True)\n",
    "ridgereg1.fit(X_train, y_train)\n",
    "y1_pred = ridgereg1.predict(X_test)"
   ]
  },
  {
   "cell_type": "code",
   "execution_count": 193,
   "metadata": {},
   "outputs": [
    {
     "data": {
      "text/plain": [
       "0.21933383365792058"
      ]
     },
     "execution_count": 193,
     "metadata": {},
     "output_type": "execute_result"
    }
   ],
   "source": [
    "#Accuracy\n",
    "ridgereg1.score(X_test,y_test)"
   ]
  },
  {
   "cell_type": "code",
   "execution_count": 194,
   "metadata": {},
   "outputs": [],
   "source": [
    "#Ridge con alfa=0.1\n",
    "ridgereg2 = Ridge(alpha=0.1, normalize=True)\n",
    "ridgereg2.fit(X_train, y_train)\n",
    "y2_pred = ridgereg2.predict(X_test)"
   ]
  },
  {
   "cell_type": "code",
   "execution_count": 195,
   "metadata": {},
   "outputs": [
    {
     "data": {
      "text/plain": [
       "0.2917384733887014"
      ]
     },
     "execution_count": 195,
     "metadata": {},
     "output_type": "execute_result"
    }
   ],
   "source": [
    "#Accuracy\n",
    "ridgereg2.score(X_test,y_test)"
   ]
  },
  {
   "cell_type": "code",
   "execution_count": 196,
   "metadata": {},
   "outputs": [
    {
     "data": {
      "text/html": [
       "<div>\n",
       "<style scoped>\n",
       "    .dataframe tbody tr th:only-of-type {\n",
       "        vertical-align: middle;\n",
       "    }\n",
       "\n",
       "    .dataframe tbody tr th {\n",
       "        vertical-align: top;\n",
       "    }\n",
       "\n",
       "    .dataframe thead th {\n",
       "        text-align: right;\n",
       "    }\n",
       "</style>\n",
       "<table border=\"1\" class=\"dataframe\">\n",
       "  <thead>\n",
       "    <tr style=\"text-align: right;\">\n",
       "      <th></th>\n",
       "      <th>Variables</th>\n",
       "      <th>Coef lineal</th>\n",
       "      <th>Coef Ridge 1</th>\n",
       "      <th>Coef Ridge 0.1</th>\n",
       "    </tr>\n",
       "  </thead>\n",
       "  <tbody>\n",
       "    <tr>\n",
       "      <th>0</th>\n",
       "      <td>fixed acidity</td>\n",
       "      <td>0.110610</td>\n",
       "      <td>-0.002488</td>\n",
       "      <td>0.026996</td>\n",
       "    </tr>\n",
       "    <tr>\n",
       "      <th>1</th>\n",
       "      <td>volatile acidity</td>\n",
       "      <td>-0.249387</td>\n",
       "      <td>-0.096080</td>\n",
       "      <td>-0.208207</td>\n",
       "    </tr>\n",
       "    <tr>\n",
       "      <th>2</th>\n",
       "      <td>citric acid</td>\n",
       "      <td>-0.009999</td>\n",
       "      <td>0.021666</td>\n",
       "      <td>0.002981</td>\n",
       "    </tr>\n",
       "    <tr>\n",
       "      <th>3</th>\n",
       "      <td>residual sugar</td>\n",
       "      <td>0.315712</td>\n",
       "      <td>0.027374</td>\n",
       "      <td>0.144277</td>\n",
       "    </tr>\n",
       "    <tr>\n",
       "      <th>4</th>\n",
       "      <td>chlorides</td>\n",
       "      <td>-0.021667</td>\n",
       "      <td>-0.042864</td>\n",
       "      <td>-0.036808</td>\n",
       "    </tr>\n",
       "    <tr>\n",
       "      <th>5</th>\n",
       "      <td>free sulfur dioxide</td>\n",
       "      <td>0.084324</td>\n",
       "      <td>0.029070</td>\n",
       "      <td>0.078584</td>\n",
       "    </tr>\n",
       "    <tr>\n",
       "      <th>6</th>\n",
       "      <td>total sulfur dioxide</td>\n",
       "      <td>-0.076798</td>\n",
       "      <td>-0.035582</td>\n",
       "      <td>-0.084715</td>\n",
       "    </tr>\n",
       "    <tr>\n",
       "      <th>7</th>\n",
       "      <td>density</td>\n",
       "      <td>-0.336798</td>\n",
       "      <td>-0.070853</td>\n",
       "      <td>-0.120305</td>\n",
       "    </tr>\n",
       "    <tr>\n",
       "      <th>8</th>\n",
       "      <td>pH</td>\n",
       "      <td>0.079879</td>\n",
       "      <td>0.013269</td>\n",
       "      <td>0.032666</td>\n",
       "    </tr>\n",
       "    <tr>\n",
       "      <th>9</th>\n",
       "      <td>sulphates</td>\n",
       "      <td>0.092677</td>\n",
       "      <td>0.039228</td>\n",
       "      <td>0.078051</td>\n",
       "    </tr>\n",
       "    <tr>\n",
       "      <th>10</th>\n",
       "      <td>alcohol</td>\n",
       "      <td>0.256885</td>\n",
       "      <td>0.164341</td>\n",
       "      <td>0.302130</td>\n",
       "    </tr>\n",
       "    <tr>\n",
       "      <th>11</th>\n",
       "      <td>type</td>\n",
       "      <td>-0.416209</td>\n",
       "      <td>0.006329</td>\n",
       "      <td>-0.158385</td>\n",
       "    </tr>\n",
       "  </tbody>\n",
       "</table>\n",
       "</div>"
      ],
      "text/plain": [
       "               Variables  Coef lineal  Coef Ridge 1  Coef Ridge 0.1\n",
       "0          fixed acidity     0.110610     -0.002488        0.026996\n",
       "1       volatile acidity    -0.249387     -0.096080       -0.208207\n",
       "2            citric acid    -0.009999      0.021666        0.002981\n",
       "3         residual sugar     0.315712      0.027374        0.144277\n",
       "4              chlorides    -0.021667     -0.042864       -0.036808\n",
       "5    free sulfur dioxide     0.084324      0.029070        0.078584\n",
       "6   total sulfur dioxide    -0.076798     -0.035582       -0.084715\n",
       "7                density    -0.336798     -0.070853       -0.120305\n",
       "8                     pH     0.079879      0.013269        0.032666\n",
       "9              sulphates     0.092677      0.039228        0.078051\n",
       "10               alcohol     0.256885      0.164341        0.302130\n",
       "11                  type    -0.416209      0.006329       -0.158385"
      ]
     },
     "execution_count": 196,
     "metadata": {},
     "output_type": "execute_result"
    }
   ],
   "source": [
    "#Comparación de coeficientes\n",
    "df = pd.DataFrame({'Variables': x.columns,'Coef lineal':linearm.coef_,\n",
    "                   'Coef Ridge 1':ridgereg1.coef_,'Coef Ridge 0.1':ridgereg2.coef_})\n",
    "df"
   ]
  },
  {
   "cell_type": "code",
   "execution_count": 197,
   "metadata": {},
   "outputs": [
    {
     "name": "stdout",
     "output_type": "stream",
     "text": [
      "Alfa 1\n",
      "RMSE 0.77 \n",
      "\n",
      "Alfa 0.1\n",
      "RMSE 0.73 \n",
      "\n"
     ]
    }
   ],
   "source": [
    "#Evaluación de los 2 métodos\n",
    "print('Alfa 1\\nRMSE',round(np.sqrt(metrics.mean_squared_error(y_test, y1_pred)),2),'\\n')\n",
    "print('Alfa 0.1\\nRMSE',round(np.sqrt(metrics.mean_squared_error(y_test, y2_pred)),2),'\\n')"
   ]
  },
  {
   "cell_type": "markdown",
   "metadata": {
    "colab_type": "text",
    "id": "PL5xuKoZdi9g"
   },
   "source": [
    "# Exercise 6.8\n",
    "\n",
    "* Estimate a lasso regression with alpha equals 0.01, 0.1 and 1.\n",
    "* Compare the coefficients with the linear regression\n",
    "* Evaluate the RMSE"
   ]
  },
  {
   "cell_type": "code",
   "execution_count": 198,
   "metadata": {
    "colab": {},
    "colab_type": "code",
    "id": "ADwoG049di9h"
   },
   "outputs": [],
   "source": [
    "from sklearn.linear_model import Lasso\n",
    "#Lasso alfa 0.01\n",
    "lassoreg1 = Lasso(alpha=0.01, normalize=True)\n",
    "lassoreg1.fit(X_train, y_train)\n",
    "yl1_pred = lassoreg1.predict(X_test)"
   ]
  },
  {
   "cell_type": "code",
   "execution_count": 199,
   "metadata": {
    "colab": {},
    "colab_type": "code",
    "id": "ADwoG049di9h"
   },
   "outputs": [],
   "source": [
    "#Lasso alfa 0.1\n",
    "lassoreg2 = Lasso(alpha=0.1, normalize=True)\n",
    "lassoreg2.fit(X_train, y_train)\n",
    "yl2_pred = lassoreg2.predict(X_test)"
   ]
  },
  {
   "cell_type": "code",
   "execution_count": 200,
   "metadata": {
    "colab": {},
    "colab_type": "code",
    "id": "ADwoG049di9h"
   },
   "outputs": [],
   "source": [
    "#Lasso alfa 1\n",
    "lassoreg3 = Lasso(alpha=1, normalize=True)\n",
    "lassoreg3.fit(X_train, y_train)\n",
    "yl3_pred = lassoreg3.predict(X_test)"
   ]
  },
  {
   "cell_type": "code",
   "execution_count": 201,
   "metadata": {},
   "outputs": [
    {
     "data": {
      "text/html": [
       "<div>\n",
       "<style scoped>\n",
       "    .dataframe tbody tr th:only-of-type {\n",
       "        vertical-align: middle;\n",
       "    }\n",
       "\n",
       "    .dataframe tbody tr th {\n",
       "        vertical-align: top;\n",
       "    }\n",
       "\n",
       "    .dataframe thead th {\n",
       "        text-align: right;\n",
       "    }\n",
       "</style>\n",
       "<table border=\"1\" class=\"dataframe\">\n",
       "  <thead>\n",
       "    <tr style=\"text-align: right;\">\n",
       "      <th></th>\n",
       "      <th>Variables</th>\n",
       "      <th>Coef lineal</th>\n",
       "      <th>Coef Lasso 0.001</th>\n",
       "      <th>Coef Lasso 0.1</th>\n",
       "      <th>Coef Lasso 1</th>\n",
       "    </tr>\n",
       "  </thead>\n",
       "  <tbody>\n",
       "    <tr>\n",
       "      <th>0</th>\n",
       "      <td>fixed acidity</td>\n",
       "      <td>0.110610</td>\n",
       "      <td>-0.0</td>\n",
       "      <td>-0.0</td>\n",
       "      <td>-0.0</td>\n",
       "    </tr>\n",
       "    <tr>\n",
       "      <th>1</th>\n",
       "      <td>volatile acidity</td>\n",
       "      <td>-0.249387</td>\n",
       "      <td>-0.0</td>\n",
       "      <td>-0.0</td>\n",
       "      <td>-0.0</td>\n",
       "    </tr>\n",
       "    <tr>\n",
       "      <th>2</th>\n",
       "      <td>citric acid</td>\n",
       "      <td>-0.009999</td>\n",
       "      <td>0.0</td>\n",
       "      <td>0.0</td>\n",
       "      <td>0.0</td>\n",
       "    </tr>\n",
       "    <tr>\n",
       "      <th>3</th>\n",
       "      <td>residual sugar</td>\n",
       "      <td>0.315712</td>\n",
       "      <td>-0.0</td>\n",
       "      <td>-0.0</td>\n",
       "      <td>-0.0</td>\n",
       "    </tr>\n",
       "    <tr>\n",
       "      <th>4</th>\n",
       "      <td>chlorides</td>\n",
       "      <td>-0.021667</td>\n",
       "      <td>-0.0</td>\n",
       "      <td>-0.0</td>\n",
       "      <td>-0.0</td>\n",
       "    </tr>\n",
       "    <tr>\n",
       "      <th>5</th>\n",
       "      <td>free sulfur dioxide</td>\n",
       "      <td>0.084324</td>\n",
       "      <td>0.0</td>\n",
       "      <td>0.0</td>\n",
       "      <td>0.0</td>\n",
       "    </tr>\n",
       "    <tr>\n",
       "      <th>6</th>\n",
       "      <td>total sulfur dioxide</td>\n",
       "      <td>-0.076798</td>\n",
       "      <td>-0.0</td>\n",
       "      <td>-0.0</td>\n",
       "      <td>-0.0</td>\n",
       "    </tr>\n",
       "    <tr>\n",
       "      <th>7</th>\n",
       "      <td>density</td>\n",
       "      <td>-0.336798</td>\n",
       "      <td>-0.0</td>\n",
       "      <td>-0.0</td>\n",
       "      <td>-0.0</td>\n",
       "    </tr>\n",
       "    <tr>\n",
       "      <th>8</th>\n",
       "      <td>pH</td>\n",
       "      <td>0.079879</td>\n",
       "      <td>0.0</td>\n",
       "      <td>0.0</td>\n",
       "      <td>0.0</td>\n",
       "    </tr>\n",
       "    <tr>\n",
       "      <th>9</th>\n",
       "      <td>sulphates</td>\n",
       "      <td>0.092677</td>\n",
       "      <td>0.0</td>\n",
       "      <td>0.0</td>\n",
       "      <td>0.0</td>\n",
       "    </tr>\n",
       "    <tr>\n",
       "      <th>10</th>\n",
       "      <td>alcohol</td>\n",
       "      <td>0.256885</td>\n",
       "      <td>0.0</td>\n",
       "      <td>0.0</td>\n",
       "      <td>0.0</td>\n",
       "    </tr>\n",
       "    <tr>\n",
       "      <th>11</th>\n",
       "      <td>type</td>\n",
       "      <td>-0.416209</td>\n",
       "      <td>0.0</td>\n",
       "      <td>0.0</td>\n",
       "      <td>0.0</td>\n",
       "    </tr>\n",
       "  </tbody>\n",
       "</table>\n",
       "</div>"
      ],
      "text/plain": [
       "               Variables  Coef lineal  Coef Lasso 0.001  Coef Lasso 0.1  \\\n",
       "0          fixed acidity     0.110610              -0.0            -0.0   \n",
       "1       volatile acidity    -0.249387              -0.0            -0.0   \n",
       "2            citric acid    -0.009999               0.0             0.0   \n",
       "3         residual sugar     0.315712              -0.0            -0.0   \n",
       "4              chlorides    -0.021667              -0.0            -0.0   \n",
       "5    free sulfur dioxide     0.084324               0.0             0.0   \n",
       "6   total sulfur dioxide    -0.076798              -0.0            -0.0   \n",
       "7                density    -0.336798              -0.0            -0.0   \n",
       "8                     pH     0.079879               0.0             0.0   \n",
       "9              sulphates     0.092677               0.0             0.0   \n",
       "10               alcohol     0.256885               0.0             0.0   \n",
       "11                  type    -0.416209               0.0             0.0   \n",
       "\n",
       "    Coef Lasso 1  \n",
       "0           -0.0  \n",
       "1           -0.0  \n",
       "2            0.0  \n",
       "3           -0.0  \n",
       "4           -0.0  \n",
       "5            0.0  \n",
       "6           -0.0  \n",
       "7           -0.0  \n",
       "8            0.0  \n",
       "9            0.0  \n",
       "10           0.0  \n",
       "11           0.0  "
      ]
     },
     "execution_count": 201,
     "metadata": {},
     "output_type": "execute_result"
    }
   ],
   "source": [
    "#Comparación de coeficientes\n",
    "df = pd.DataFrame({'Variables': x.columns,'Coef lineal':linearm.coef_,\n",
    "                   'Coef Lasso 0.001':lassoreg1.coef_,'Coef Lasso 0.1':lassoreg2.coef_,'Coef Lasso 1':lassoreg3.coef_})\n",
    "df"
   ]
  },
  {
   "cell_type": "markdown",
   "metadata": {
    "colab_type": "text",
    "id": "DhwwSJppdi9j"
   },
   "source": [
    "# Exercise 6.9\n",
    "\n",
    "* Create a binary target\n",
    "\n",
    "* Train a logistic regression to predict wine quality (binary)\n",
    "\n",
    "* Analyze the coefficients\n",
    "\n",
    "* Evaluate the f1score"
   ]
  },
  {
   "cell_type": "code",
   "execution_count": 230,
   "metadata": {},
   "outputs": [],
   "source": [
    "from sklearn.linear_model import LogisticRegression\n",
    "#Renombrar el df, traer el df con categoría binaria\n",
    "df=data_scaled.copy()\n",
    "\n",
    "#Crear variables binarias \n",
    "df.loc[df.quality <= 5, 'quality'] = 0\n",
    "df.loc[df.quality > 5, 'quality'] = 1\n",
    "\n",
    "#Definir Variables\n",
    "x=df.drop(columns=['quality'])\n",
    "y=df['quality']\n",
    "\n",
    "#Sets de entrenamiento y prueba\n",
    "X_train, X_test, y_train, y_test = train_test_split(x, y, test_size=0.3)\n",
    "\n",
    "#Regresión logística\n",
    "logreg = LogisticRegression(C=1e9,multi_class='multinomial', solver='newton-cg').fit(X_train,y_train)"
   ]
  },
  {
   "cell_type": "code",
   "execution_count": 231,
   "metadata": {},
   "outputs": [
    {
     "data": {
      "text/plain": [
       "array([[ 0.04509411, -0.38669205, -0.03726443,  0.22531822, -0.03973588,\n",
       "         0.15599361, -0.16539878, -0.1434953 ,  0.04415876,  0.14941317,\n",
       "         0.52269807, -0.28383609]])"
      ]
     },
     "execution_count": 231,
     "metadata": {},
     "output_type": "execute_result"
    }
   ],
   "source": [
    "logreg.coef_"
   ]
  },
  {
   "cell_type": "code",
   "execution_count": 248,
   "metadata": {},
   "outputs": [
    {
     "data": {
      "text/plain": [
       "0.7913894324853229"
      ]
     },
     "execution_count": 248,
     "metadata": {},
     "output_type": "execute_result"
    }
   ],
   "source": [
    "from sklearn.metrics import f1_score\n",
    "f1_score(y_test,logreg.predict(X_test))"
   ]
  },
  {
   "cell_type": "markdown",
   "metadata": {
    "colab_type": "text",
    "id": "GULSghAgdi9n"
   },
   "source": [
    "# Exercise 6.10\n",
    "\n",
    "* Estimate a regularized logistic regression using:\n",
    "* C = 0.01, 0.1 & 1.0\n",
    "* penalty = ['l1, 'l2']\n",
    "* Compare the coefficients and the f1score"
   ]
  },
  {
   "cell_type": "code",
   "execution_count": 249,
   "metadata": {
    "colab": {},
    "colab_type": "code",
    "id": "aiqanObOdi9o"
   },
   "outputs": [],
   "source": [
    "#Estimar Modelos\n",
    "logreg1 = LogisticRegression(C=0.01, penalty='l1',solver='saga',multi_class='multinomial').fit(X_train, y_train)\n",
    "logreg2 = LogisticRegression(C=0.01, penalty='l2',solver='saga',multi_class='multinomial').fit(X_train, y_train)\n",
    "logreg3 = LogisticRegression(C=0.1, penalty='l1',solver='saga',multi_class='multinomial').fit(X_train, y_train)\n",
    "logreg4 = LogisticRegression(C=0.1, penalty='l2',solver='saga',multi_class='multinomial').fit(X_train, y_train)\n",
    "logreg5 = LogisticRegression(C=1, penalty='l1',solver='saga',multi_class='multinomial').fit(X_train, y_train)\n",
    "logreg6 = LogisticRegression(C=1, penalty='l2',solver='saga',multi_class='multinomial').fit(X_train, y_train)"
   ]
  },
  {
   "cell_type": "code",
   "execution_count": 259,
   "metadata": {
    "colab": {},
    "colab_type": "code",
    "id": "7rqPF5YUdi9r"
   },
   "outputs": [
    {
     "data": {
      "text/html": [
       "<div>\n",
       "<style scoped>\n",
       "    .dataframe tbody tr th:only-of-type {\n",
       "        vertical-align: middle;\n",
       "    }\n",
       "\n",
       "    .dataframe tbody tr th {\n",
       "        vertical-align: top;\n",
       "    }\n",
       "\n",
       "    .dataframe thead th {\n",
       "        text-align: right;\n",
       "    }\n",
       "</style>\n",
       "<table border=\"1\" class=\"dataframe\">\n",
       "  <thead>\n",
       "    <tr style=\"text-align: right;\">\n",
       "      <th></th>\n",
       "      <th>Variables</th>\n",
       "      <th>Coef C=0.01 P=l1</th>\n",
       "      <th>Coef C=0.01 P=l2</th>\n",
       "      <th>Coef C=0.1 P=l1</th>\n",
       "      <th>Coef C=0.1 P=l2</th>\n",
       "      <th>Coef C=1 P=l1</th>\n",
       "      <th>Coef C=1 P=l2</th>\n",
       "    </tr>\n",
       "  </thead>\n",
       "  <tbody>\n",
       "    <tr>\n",
       "      <th>0</th>\n",
       "      <td>fixed acidity</td>\n",
       "      <td>0.000000</td>\n",
       "      <td>0.033596</td>\n",
       "      <td>0.000000</td>\n",
       "      <td>0.041145</td>\n",
       "      <td>0.034749</td>\n",
       "      <td>0.044485</td>\n",
       "    </tr>\n",
       "    <tr>\n",
       "      <th>1</th>\n",
       "      <td>volatile acidity</td>\n",
       "      <td>-0.242936</td>\n",
       "      <td>-0.316791</td>\n",
       "      <td>-0.352272</td>\n",
       "      <td>-0.374971</td>\n",
       "      <td>-0.384011</td>\n",
       "      <td>-0.385354</td>\n",
       "    </tr>\n",
       "    <tr>\n",
       "      <th>2</th>\n",
       "      <td>citric acid</td>\n",
       "      <td>0.000000</td>\n",
       "      <td>-0.021946</td>\n",
       "      <td>-0.029943</td>\n",
       "      <td>-0.036177</td>\n",
       "      <td>-0.036608</td>\n",
       "      <td>-0.037200</td>\n",
       "    </tr>\n",
       "    <tr>\n",
       "      <th>3</th>\n",
       "      <td>residual sugar</td>\n",
       "      <td>0.010934</td>\n",
       "      <td>0.158734</td>\n",
       "      <td>0.119521</td>\n",
       "      <td>0.207031</td>\n",
       "      <td>0.205672</td>\n",
       "      <td>0.222814</td>\n",
       "    </tr>\n",
       "    <tr>\n",
       "      <th>4</th>\n",
       "      <td>chlorides</td>\n",
       "      <td>0.000000</td>\n",
       "      <td>-0.045065</td>\n",
       "      <td>-0.031850</td>\n",
       "      <td>-0.039811</td>\n",
       "      <td>-0.039438</td>\n",
       "      <td>-0.039719</td>\n",
       "    </tr>\n",
       "    <tr>\n",
       "      <th>5</th>\n",
       "      <td>free sulfur dioxide</td>\n",
       "      <td>0.000000</td>\n",
       "      <td>0.134209</td>\n",
       "      <td>0.146564</td>\n",
       "      <td>0.155675</td>\n",
       "      <td>0.155580</td>\n",
       "      <td>0.156087</td>\n",
       "    </tr>\n",
       "    <tr>\n",
       "      <th>6</th>\n",
       "      <td>total sulfur dioxide</td>\n",
       "      <td>0.000000</td>\n",
       "      <td>-0.164375</td>\n",
       "      <td>-0.178718</td>\n",
       "      <td>-0.171863</td>\n",
       "      <td>-0.167586</td>\n",
       "      <td>-0.166392</td>\n",
       "    </tr>\n",
       "    <tr>\n",
       "      <th>7</th>\n",
       "      <td>density</td>\n",
       "      <td>0.000000</td>\n",
       "      <td>-0.095038</td>\n",
       "      <td>0.000000</td>\n",
       "      <td>-0.122025</td>\n",
       "      <td>-0.114872</td>\n",
       "      <td>-0.140329</td>\n",
       "    </tr>\n",
       "    <tr>\n",
       "      <th>8</th>\n",
       "      <td>pH</td>\n",
       "      <td>0.000000</td>\n",
       "      <td>0.041087</td>\n",
       "      <td>0.017541</td>\n",
       "      <td>0.042433</td>\n",
       "      <td>0.038170</td>\n",
       "      <td>0.043865</td>\n",
       "    </tr>\n",
       "    <tr>\n",
       "      <th>9</th>\n",
       "      <td>sulphates</td>\n",
       "      <td>0.041948</td>\n",
       "      <td>0.139737</td>\n",
       "      <td>0.137245</td>\n",
       "      <td>0.148945</td>\n",
       "      <td>0.147249</td>\n",
       "      <td>0.149379</td>\n",
       "    </tr>\n",
       "    <tr>\n",
       "      <th>10</th>\n",
       "      <td>alcohol</td>\n",
       "      <td>0.456401</td>\n",
       "      <td>0.469378</td>\n",
       "      <td>0.559992</td>\n",
       "      <td>0.521074</td>\n",
       "      <td>0.532180</td>\n",
       "      <td>0.522854</td>\n",
       "    </tr>\n",
       "    <tr>\n",
       "      <th>11</th>\n",
       "      <td>type</td>\n",
       "      <td>0.000000</td>\n",
       "      <td>-0.074263</td>\n",
       "      <td>-0.032589</td>\n",
       "      <td>-0.220310</td>\n",
       "      <td>-0.249953</td>\n",
       "      <td>-0.275368</td>\n",
       "    </tr>\n",
       "  </tbody>\n",
       "</table>\n",
       "</div>"
      ],
      "text/plain": [
       "               Variables  Coef C=0.01 P=l1  Coef C=0.01 P=l2  Coef C=0.1 P=l1  \\\n",
       "0          fixed acidity          0.000000          0.033596         0.000000   \n",
       "1       volatile acidity         -0.242936         -0.316791        -0.352272   \n",
       "2            citric acid          0.000000         -0.021946        -0.029943   \n",
       "3         residual sugar          0.010934          0.158734         0.119521   \n",
       "4              chlorides          0.000000         -0.045065        -0.031850   \n",
       "5    free sulfur dioxide          0.000000          0.134209         0.146564   \n",
       "6   total sulfur dioxide          0.000000         -0.164375        -0.178718   \n",
       "7                density          0.000000         -0.095038         0.000000   \n",
       "8                     pH          0.000000          0.041087         0.017541   \n",
       "9              sulphates          0.041948          0.139737         0.137245   \n",
       "10               alcohol          0.456401          0.469378         0.559992   \n",
       "11                  type          0.000000         -0.074263        -0.032589   \n",
       "\n",
       "    Coef C=0.1 P=l2  Coef C=1 P=l1  Coef C=1 P=l2  \n",
       "0          0.041145       0.034749       0.044485  \n",
       "1         -0.374971      -0.384011      -0.385354  \n",
       "2         -0.036177      -0.036608      -0.037200  \n",
       "3          0.207031       0.205672       0.222814  \n",
       "4         -0.039811      -0.039438      -0.039719  \n",
       "5          0.155675       0.155580       0.156087  \n",
       "6         -0.171863      -0.167586      -0.166392  \n",
       "7         -0.122025      -0.114872      -0.140329  \n",
       "8          0.042433       0.038170       0.043865  \n",
       "9          0.148945       0.147249       0.149379  \n",
       "10         0.521074       0.532180       0.522854  \n",
       "11        -0.220310      -0.249953      -0.275368  "
      ]
     },
     "execution_count": 259,
     "metadata": {},
     "output_type": "execute_result"
    }
   ],
   "source": [
    "#Comparar Coeficientes\n",
    "coef = pd.DataFrame({'Variables': x.columns,'Coef C=0.01 P=l1':logreg1.coef_[0],\n",
    "                   'Coef C=0.01 P=l2':logreg2.coef_[0],'Coef C=0.1 P=l1':logreg3.coef_[0],\n",
    "                   'Coef C=0.1 P=l2':logreg4.coef_[0],'Coef C=1 P=l1':logreg5.coef_[0],\n",
    "                   'Coef C=1 P=l2':logreg6.coef_[0]})\n",
    "coef"
   ]
  },
  {
   "cell_type": "code",
   "execution_count": 270,
   "metadata": {},
   "outputs": [
    {
     "name": "stdout",
     "output_type": "stream",
     "text": [
      "Coef C=0.01 P=l1: 0.7869 \n",
      "Coef C=0.01 P=l2: 0.7869 \n",
      "Coef C=0.1 P=l1: 0.7866 \n",
      "Coef C=0.1 P=l2: 0.7879 \n",
      "Coef C=1 P=l1: 0.7867 \n",
      "Coef C=1 P=l2: 0.7903\n"
     ]
    }
   ],
   "source": [
    "#Comparar f1 score\n",
    "print('Coef C=0.01 P=l1:',round(f1_score(y_test,logreg1.predict(X_test)),4),\n",
    "                   '\\nCoef C=0.01 P=l2:',round(f1_score(y_test,logreg1.predict(X_test)),4),\n",
    "                   '\\nCoef C=0.1 P=l1:',round(f1_score(y_test,logreg2.predict(X_test)),4),\n",
    "                   '\\nCoef C=0.1 P=l2:',round(f1_score(y_test,logreg3.predict(X_test)),4),\n",
    "                   '\\nCoef C=1 P=l1:',round(f1_score(y_test,logreg4.predict(X_test)),4),\n",
    "                   '\\nCoef C=1 P=l2:',round(f1_score(y_test,logreg5.predict(X_test)),4))"
   ]
  }
 ],
 "metadata": {
  "colab": {
   "name": "E6-SVM&Regularization.ipynb",
   "provenance": [],
   "version": "0.3.2"
  },
  "kernelspec": {
   "display_name": "Python 3",
   "language": "python",
   "name": "python3"
  },
  "language_info": {
   "codemirror_mode": {
    "name": "ipython",
    "version": 3
   },
   "file_extension": ".py",
   "mimetype": "text/x-python",
   "name": "python",
   "nbconvert_exporter": "python",
   "pygments_lexer": "ipython3",
   "version": "3.6.5"
  }
 },
 "nbformat": 4,
 "nbformat_minor": 1
}
